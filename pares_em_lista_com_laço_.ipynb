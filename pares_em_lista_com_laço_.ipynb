{
  "nbformat": 4,
  "nbformat_minor": 0,
  "metadata": {
    "colab": {
      "provenance": [],
      "authorship_tag": "ABX9TyPAOajAezqZY+Js39HQZ/GU",
      "include_colab_link": true
    },
    "kernelspec": {
      "name": "python3",
      "display_name": "Python 3"
    },
    "language_info": {
      "name": "python"
    }
  },
  "cells": [
    {
      "cell_type": "markdown",
      "metadata": {
        "id": "view-in-github",
        "colab_type": "text"
      },
      "source": [
        "<a href=\"https://colab.research.google.com/github/Davidlns/01---Python-Analise-de-dados-e-Graficos/blob/main/pares_em_lista_com_la%C3%A7o_.ipynb\" target=\"_parent\"><img src=\"https://colab.research.google.com/assets/colab-badge.svg\" alt=\"Open In Colab\"/></a>"
      ]
    },
    {
      "cell_type": "code",
      "execution_count": null,
      "metadata": {
        "id": "ilc0fsilzJdP"
      },
      "outputs": [],
      "source": [
        "lista = [4,9,77,67,5,2,12,33,22]\n",
        "lista2 = []\n",
        "soma = 0\n",
        "for i in lista:\n",
        "    if i % 2 == 0:\n",
        "\n",
        "        lista2.append(i)\n",
        "        soma += i\n",
        "\n",
        "print(lista2)\n",
        "print(f'A soma dos numeros pares da lista = {soma}')"
      ]
    }
  ]
}
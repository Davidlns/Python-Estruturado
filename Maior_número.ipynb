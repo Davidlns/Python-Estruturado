{
  "nbformat": 4,
  "nbformat_minor": 0,
  "metadata": {
    "colab": {
      "provenance": [],
      "authorship_tag": "ABX9TyMqEiMPoB7TzJcYxXR3UkeR",
      "include_colab_link": true
    },
    "kernelspec": {
      "name": "python3",
      "display_name": "Python 3"
    },
    "language_info": {
      "name": "python"
    }
  },
  "cells": [
    {
      "cell_type": "markdown",
      "metadata": {
        "id": "view-in-github",
        "colab_type": "text"
      },
      "source": [
        "<a href=\"https://colab.research.google.com/github/Davidlns/Python-Estruturado/blob/main/Maior_n%C3%BAmero.ipynb\" target=\"_parent\"><img src=\"https://colab.research.google.com/assets/colab-badge.svg\" alt=\"Open In Colab\"/></a>"
      ]
    },
    {
      "cell_type": "code",
      "execution_count": null,
      "metadata": {
        "colab": {
          "base_uri": "https://localhost:8080/"
        },
        "id": "v72zizQ1yNpw",
        "outputId": "4dca8bbd-983e-4bde-ba24-3e6136d4999b"
      },
      "outputs": [
        {
          "output_type": "stream",
          "name": "stdout",
          "text": [
            "Informe o primeiro numero: 2\n",
            "Informe o segundo numero: 9\n",
            "o numero 9 é maior que o numero 2\n"
          ]
        }
      ],
      "source": [
        "#identificar maior numero\n",
        "\n",
        "n1 = int(input('Informe o primeiro numero: '))\n",
        "n2 = int(input('Informe o segundo numero: '))\n",
        "if n1 > n2:\n",
        "  print(f'o numero {n1} é maior que o numero {n2}')\n",
        "\n",
        "if n1 == n2:\n",
        "  print(f'O numero {n1} é igual ao numero {n2}')\n",
        "\n",
        "if n2 > n1:\n",
        "  print (f'o numero {n2} é maior que o numero {n1}')"
      ]
    }
  ]
}
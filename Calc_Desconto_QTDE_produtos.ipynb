{
  "nbformat": 4,
  "nbformat_minor": 0,
  "metadata": {
    "colab": {
      "provenance": [],
      "authorship_tag": "ABX9TyNwCE0EXjt1wG1PslarMYt6",
      "include_colab_link": true
    },
    "kernelspec": {
      "name": "python3",
      "display_name": "Python 3"
    },
    "language_info": {
      "name": "python"
    }
  },
  "cells": [
    {
      "cell_type": "markdown",
      "metadata": {
        "id": "view-in-github",
        "colab_type": "text"
      },
      "source": [
        "<a href=\"https://colab.research.google.com/github/Davidlns/01---Python-Analise-de-dados-e-Graficos/blob/main/Calc_Desconto_QTDE_produtos.ipynb\" target=\"_parent\"><img src=\"https://colab.research.google.com/assets/colab-badge.svg\" alt=\"Open In Colab\"/></a>"
      ]
    },
    {
      "cell_type": "code",
      "execution_count": null,
      "metadata": {
        "id": "yn5z56Rdynd2"
      },
      "outputs": [],
      "source": [
        "#calculo de desconto baseado em quantidade\n",
        "quant = int(input('Informe a quantidade de produtos!: '))\n",
        "preco = float(10)\n",
        "totalp = float(quant * preco)\n",
        "valorf = float(totalp)\n",
        "desc = 0\n",
        "\n",
        "if quant > 10:\n",
        "    desc = float(totalp * 0.10)\n",
        "    valorf -= desc\n",
        "\n",
        "if quant > 20:\n",
        "  desc = (totalp * 0.20)\n",
        "  valorf = (totalp - desc)\n",
        "\n",
        "print(f'O valor inicial da sua compra foi R${totalp}, seu desconto foi de R${desc}, e o total a ser pago é R${valorf}')"
      ]
    }
  ]
}
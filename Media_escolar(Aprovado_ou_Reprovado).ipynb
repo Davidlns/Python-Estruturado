{
  "nbformat": 4,
  "nbformat_minor": 0,
  "metadata": {
    "colab": {
      "provenance": [],
      "authorship_tag": "ABX9TyOhgX+dG7HrFHCoDm/RYQHq",
      "include_colab_link": true
    },
    "kernelspec": {
      "name": "python3",
      "display_name": "Python 3"
    },
    "language_info": {
      "name": "python"
    }
  },
  "cells": [
    {
      "cell_type": "markdown",
      "metadata": {
        "id": "view-in-github",
        "colab_type": "text"
      },
      "source": [
        "<a href=\"https://colab.research.google.com/github/Davidlns/01---Python-Analise-de-dados-e-Graficos/blob/main/Media_escolar(Aprovado_ou_Reprovado).ipynb\" target=\"_parent\"><img src=\"https://colab.research.google.com/assets/colab-badge.svg\" alt=\"Open In Colab\"/></a>"
      ]
    },
    {
      "cell_type": "code",
      "execution_count": null,
      "metadata": {
        "id": "fRU3MIZ6x8xm"
      },
      "outputs": [],
      "source": []
    },
    {
      "cell_type": "code",
      "source": [
        "#calculo de média e condições de aprovação ou reprovação\n",
        "\n",
        "nota1 = float(input('Informe Sua nota do 1 bimentre!: '))\n",
        "nota2 = float(input('Informe Sua nota do 2 bimestre!: '))\n",
        "nota3 = float(input('Informe Sua nota do 3 bimestre!: '))\n",
        "nota4 = float(input('Informe Sua nota do 4 bimestre!: '))\n",
        "\n",
        "media = (nota1 + nota2 + nota3 + nota4) / 4\n",
        "\n",
        "if media >= 7:\n",
        "  print(f'Sua media foi {media} e você foi aprovado!')\n",
        "\n",
        "elif(media >= 5):\n",
        "  print(f'Sua media foi {media} e você está na Recuperação')\n",
        "\n",
        "else:\n",
        "  print(f'Sua media foi {media} e você foi reprovado')\n"
      ],
      "metadata": {
        "colab": {
          "base_uri": "https://localhost:8080/"
        },
        "id": "vHWahHD9Ncsv",
        "outputId": "cdc9bace-8039-4ff7-d89e-ce8311d2b6ed"
      },
      "execution_count": null,
      "outputs": [
        {
          "output_type": "stream",
          "name": "stdout",
          "text": [
            "Informe Sua nota do 1 bimentre!: 7\n",
            "Informe Sua nota do 2 bimestre!: 8\n",
            "Informe Sua nota do 3 bimestre!: 9\n",
            "Informe Sua nota do 4 bimestre!: 7\n",
            "Sua media foi 7.75 e você foi aprovado!\n"
          ]
        }
      ]
    }
  ]
}
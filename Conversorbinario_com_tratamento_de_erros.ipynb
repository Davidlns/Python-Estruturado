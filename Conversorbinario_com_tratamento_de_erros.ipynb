{
  "nbformat": 4,
  "nbformat_minor": 0,
  "metadata": {
    "colab": {
      "provenance": [],
      "authorship_tag": "ABX9TyMkJDlFTpWaVI2VT/9LZq51",
      "include_colab_link": true
    },
    "kernelspec": {
      "name": "python3",
      "display_name": "Python 3"
    },
    "language_info": {
      "name": "python"
    }
  },
  "cells": [
    {
      "cell_type": "markdown",
      "metadata": {
        "id": "view-in-github",
        "colab_type": "text"
      },
      "source": [
        "<a href=\"https://colab.research.google.com/github/Davidlns/01---Python-Analise-de-dados-e-Graficos/blob/main/Conversorbinario_com_tratamento_de_erros.ipynb\" target=\"_parent\"><img src=\"https://colab.research.google.com/assets/colab-badge.svg\" alt=\"Open In Colab\"/></a>"
      ]
    },
    {
      "cell_type": "code",
      "execution_count": null,
      "metadata": {
        "id": "DD_Qpw7iwjfu",
        "colab": {
          "base_uri": "https://localhost:8080/"
        },
        "outputId": "2a9f65bb-274f-4fff-b4bf-bb725b6416b4"
      },
      "outputs": [
        {
          "output_type": "stream",
          "name": "stdout",
          "text": [
            "Numero na base decimal: 23\n",
            "Conversão para base binária: 10111\n"
          ]
        }
      ],
      "source": [
        "base10 = int(input('Numero na base decimal: '))\n",
        "i = 2\n",
        "base2 = []\n",
        "\n",
        "if base10 == 1:\n",
        "    base2.insert(0, base10)\n",
        "\n",
        "while base10 >= i:\n",
        "\n",
        "    restos = int(base10 % i)\n",
        "    base10 = int(base10 / i)\n",
        "\n",
        "    base2.insert(0,restos)\n",
        "\n",
        "    if base10 == 1:\n",
        "        base2.insert(0,base10)\n",
        "\n",
        "\n",
        "bi1 = \"\".join(map(str,base2))\n",
        "bi1 = int(bi1)\n",
        "print(f'Conversão para base binária: {bi1}')"
      ]
    },
    {
      "cell_type": "code",
      "source": [
        "#conversor base 10 para base 2 com resolução de erros\n",
        "contador = 0\n",
        "while contador == 0:\n",
        "  try:\n",
        "      base10 = int(input('Numero na base decimal: '))\n",
        "      i = 2\n",
        "      base2 = []\n",
        "\n",
        "      if base10 == 1:\n",
        "          base2.insert(0, base10)\n",
        "\n",
        "      while base10 >= i:\n",
        "\n",
        "          restos = int(base10 % i)\n",
        "          base10 = int(base10 / i)\n",
        "\n",
        "          base2.insert(0,restos)\n",
        "\n",
        "          if base10 == 1:\n",
        "              base2.insert(0,base10)\n",
        "\n",
        "\n",
        "      bi1 = \"\".join(map(str,base2))\n",
        "      bi1 = int(bi1)\n",
        "      print(f'Conversão para base binária: {bi1}')\n",
        "      contador = 1\n",
        "  except:\n",
        "      print('Digite um número válido (inteiro e positivo)')"
      ],
      "metadata": {
        "colab": {
          "base_uri": "https://localhost:8080/"
        },
        "id": "0Tt4LDfk4qeo",
        "outputId": "e7d935aa-2a81-422a-897a-05dc54ee8ea3"
      },
      "execution_count": null,
      "outputs": [
        {
          "output_type": "stream",
          "name": "stdout",
          "text": [
            "Numero na base decimal: 24\n",
            "Conversão para base binária: 11000\n"
          ]
        }
      ]
    }
  ]
}